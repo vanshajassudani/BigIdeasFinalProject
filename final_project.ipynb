{
 "cells": [
  {
   "cell_type": "code",
   "execution_count": 1,
   "metadata": {},
   "outputs": [],
   "source": [
    "import pandas as pd\n",
    "import matplotlib.pyplot as plt"
   ]
  },
  {
   "cell_type": "code",
   "execution_count": 2,
   "metadata": {},
   "outputs": [],
   "source": [
    "# This cell deals with loading the data generated from the other notebooks\n",
    "\n",
    "arrests = pd.read_csv(\"arrests_rank.csv\")\n",
    "playgs = pd.read_csv(\"playgrounds_rank.csv\")\n",
    "enr = pd.read_csv(\"enrollment_rank.csv\")"
   ]
  },
  {
   "cell_type": "code",
   "execution_count": 3,
   "metadata": {},
   "outputs": [],
   "source": [
    "# This cell deals with extracting the common neighborhoods and giving them cumulative ranks\n",
    "comm_nh = set(arrests['Neighborhood']).intersection(set(playgs['Neighborhood']))\n",
    "comm_nh = comm_nh.intersection(set(enr['Neighborhood']))\n",
    "comm_nh = list(comm_nh)\n",
    "rank_list = []\n",
    "\n",
    "for nh in comm_nh:\n",
    "  a_rank = arrests[arrests['Neighborhood']==nh].iloc[0]['Rank']  # Assuming 'Rank' exists at index 0\n",
    "  p_rank = playgs[playgs['Neighborhood']==nh].iloc[0]['Rank']  # Assuming 'Rank' exists at index 0\n",
    "  e_rank = enr[enr['Neighborhood']==nh].iloc[0]['Rank']  # Assuming 'Rank' exists at index 0\n",
    "  rank_list.append(a_rank+p_rank+e_rank)\n"
   ]
  },
  {
   "cell_type": "code",
   "execution_count": 4,
   "metadata": {},
   "outputs": [],
   "source": [
    "# This cell deals with sorting the given neighborhoods based on ranks\n",
    "\n",
    "finalNH = pd.DataFrame({\"Total Rank\":rank_list,\"Neighborhood\":comm_nh})\n",
    "finalNH = finalNH.sort_values(by=\"Total Rank\")\n"
   ]
  },
  {
   "cell_type": "code",
   "execution_count": null,
   "metadata": {},
   "outputs": [],
   "source": [
    "# This cell deals with printing the output of the conclusion onto the \n",
    "# command line, and exporting the data into a csv file.\n",
    "\n",
    "print(finalNH.to_string(index=False))\n",
    "finalNH.to_csv(\"final_result.csv\",index=False)"
   ]
  },
  {
   "cell_type": "markdown",
   "metadata": {},
   "source": [
    "We found that the three metrics used would be a fairly good starting point for measuring the \"best\" neighborhood to raise children. Though if we were to add more metrics I believe that \"quality of life\" or \"healthiness\" of neighborhoods could be used or something similar to that. However, we believe that a low crime rate would leave a safer environment for children. Playgrounds would be a good source of fun for children that would help cultivate a better future. And education is evidently optimal in order to guarantee children a more knowledgeable life."
   ]
  }
 ],
 "metadata": {
  "kernelspec": {
   "display_name": "Python 3",
   "language": "python",
   "name": "python3"
  },
  "language_info": {
   "codemirror_mode": {
    "name": "ipython",
    "version": 3
   },
   "file_extension": ".py",
   "mimetype": "text/x-python",
   "name": "python",
   "nbconvert_exporter": "python",
   "pygments_lexer": "ipython3",
   "version": "3.12.1"
  }
 },
 "nbformat": 4,
 "nbformat_minor": 2
}
