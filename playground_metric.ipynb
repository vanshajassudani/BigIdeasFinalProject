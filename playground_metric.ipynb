{
 "cells": [
  {
   "cell_type": "code",
   "execution_count": 1,
   "metadata": {},
   "outputs": [],
   "source": [
    "import pandas as pd\n",
    "import matplotlib.pyplot as plt"
   ]
  },
  {
   "cell_type": "code",
   "execution_count": 2,
   "metadata": {},
   "outputs": [],
   "source": [
    "\n",
    "# This cell deals with loading the data and making it useful and presentable.\n",
    "metric = pd.read_csv(\"playgrounds.csv\")\n",
    "\n",
    "# Group by neighborhood and count the occurrences\n",
    "metric_grouped = metric.groupby('neighborhood').size().reset_index(name='count')\n",
    "\n",
    "# Sort by count\n",
    "mgc = metric_grouped.sort_values(by='count',ascending=False)\n",
    "\n",
    "# Create a sequential list to be assigned to the sorted neighborhoods\n",
    "rank_list = [x for x in range(1,len(mgc)+1)]\n",
    "mgc['Rank'] = rank_list\n",
    "\n",
    "# Presentability\n",
    "mgc = mgc[['Rank', 'neighborhood', 'count']]\n",
    "mgc = mgc.rename(columns={'neighborhood': 'Neighborhood','count':'Count'})\n"
   ]
  },
  {
   "cell_type": "code",
   "execution_count": null,
   "metadata": {},
   "outputs": [],
   "source": [
    "# This cell deals with presenting the data\n",
    "\n",
    "x_data = mgc['Neighborhood']\n",
    "y_data = mgc['Count']\n",
    "\n",
    "# Prepare a plot\n",
    "plt.bar(x_data,y_data,color=\"navy\")\n",
    "plt.xlabel(\"Neighborhoods\")\n",
    "plt.ylabel(\"Playgrounds\")\n",
    "\n",
    "# Show only some ticks on the x axis, evenly spread to make it presentable.\n",
    "# \"Ugly code, but gives neat ouput\" - Vanshaj\n",
    "\n",
    "mid_ind = len(mgc)//2\n",
    "semimid_ind = mid_ind//2\n",
    "xtlist1 = [0,mid_ind-semimid_ind,mid_ind,mid_ind+semimid_ind,len(mgc)-1]\n",
    "xtlist2 = [x_data.iloc[0],x_data.iloc[mid_ind-semimid_ind],x_data.iloc[mid_ind],x_data.iloc[mid_ind+semimid_ind],x_data.iloc[len(mgc)-1]]\n",
    "\n",
    "\n",
    "plt.xticks(xtlist1,xtlist2)\n",
    "plt.title(\"Playgrounds by Neighborhoods\")"
   ]
  },
  {
   "cell_type": "code",
   "execution_count": null,
   "metadata": {},
   "outputs": [],
   "source": [
    "# This cell deals with printing the output of the conclusion onto the \n",
    "# command line, and exporting the data into a csv file for further use\n",
    "\n",
    "print(mgc.to_string(index=False))\n",
    "mgc.to_csv(\"playgrounds_rank.csv\",index=False)\n"
   ]
  },
  {
   "cell_type": "markdown",
   "metadata": {},
   "source": [
    "After using pandas with python, removing all the unnecessary fields, grouping the data based on neighborhoods, sorting them from most playgrounds to least, we rank the neighborhoods with more playgrounds higher than the ones with less, thus acting as a useful metric for the project. The results are visible during the execution of this code, and also in the output file generated."
   ]
  }
 ],
 "metadata": {
  "kernelspec": {
   "display_name": "Python 3",
   "language": "python",
   "name": "python3"
  },
  "language_info": {
   "codemirror_mode": {
    "name": "ipython",
    "version": 3
   },
   "file_extension": ".py",
   "mimetype": "text/x-python",
   "name": "python",
   "nbconvert_exporter": "python",
   "pygments_lexer": "ipython3",
   "version": "3.12.1"
  }
 },
 "nbformat": 4,
 "nbformat_minor": 2
}
