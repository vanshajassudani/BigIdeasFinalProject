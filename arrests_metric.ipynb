{
 "cells": [
  {
   "cell_type": "code",
   "execution_count": 1,
   "metadata": {},
   "outputs": [],
   "source": [
    "import pandas as pd\n",
    "import matplotlib.pyplot as plt"
   ]
  },
  {
   "cell_type": "code",
   "execution_count": 2,
   "metadata": {},
   "outputs": [],
   "source": [
    "# This cell deals with loading the data and making it useful and presentable.\n",
    "metric = pd.read_csv(\"arrests.tsv\",sep=\"\\t\")\n",
    "\n",
    "# Group by neighborhood and count the occurrences\n",
    "metric_grouped = metric.groupby(\"INCIDENTNEIGHBORHOOD\").size().reset_index(name=\"count\")\n",
    "\n",
    "# Sort by count\n",
    "mgc = metric_grouped.sort_values(by=\"count\")\n",
    "\n",
    "# Create a sequential list to be assigned to the sorted neighborhoods\n",
    "rank_list = [x for x in range(1,len(mgc)+1)]\n",
    "mgc['Rank'] = rank_list\n",
    "\n",
    "# Presentability\n",
    "mgc = mgc.rename(columns={\"INCIDENTNEIGHBORHOOD\":\"Neighborhood\",\"count\":\"Arrests\"})\n",
    "mgc=mgc[['Rank','Neighborhood','Arrests']]\n"
   ]
  },
  {
   "cell_type": "code",
   "execution_count": 3,
   "metadata": {},
   "outputs": [
    {
     "data": {
      "text/plain": [
       "Text(0.5, 1.0, 'Arrests by Neighborhoods')"
      ]
     },
     "execution_count": 3,
     "metadata": {},
     "output_type": "execute_result"
    },
    {
     "data": {
      "image/png": "[encoded data removed]",
      "text/plain": [
       "<Figure size 640x480 with 1 Axes>"
      ]
     },
     "metadata": {},
     "output_type": "display_data"
    }
   ],
   "source": [
    "# This cell deals with presenting the data\n",
    "\n",
    "x_data = mgc['Neighborhood']\n",
    "y_data = mgc['Arrests']\n",
    "\n",
    "# Prepare a plot\n",
    "plt.bar(x_data,y_data,color=\"navy\")\n",
    "plt.xlabel(\"Neighborhoods\")\n",
    "plt.ylabel(\"Enrollment\")\n",
    "\n",
    "# Show only some ticks on the x axis, evenly spread to make it presentable.\n",
    "mid_ind = len(mgc)//2\n",
    "semimid_ind = mid_ind//2\n",
    "xtlist1 = [0,mid_ind,len(mgc)-1]\n",
    "xtlist2 = [x_data.iloc[0],x_data.iloc[mid_ind],x_data.iloc[len(mgc)-1]]\n",
    "\n",
    "plt.xticks(xtlist1,xtlist2)\n",
    "plt.title(\"Arrests by Neighborhoods\")"
   ]
  },
  {
   "cell_type": "code",
   "execution_count": 4,
   "metadata": {},
   "outputs": [
    {
     "name": "stdout",
     "output_type": "stream",
     "text": [
      " Rank                Neighborhood  Arrests\n",
      "    1     Mt. Oliver Neighborhood        2\n",
      "    2      Troy Hill-Herrs Island        6\n",
      "    3             Mt. Oliver Boro       18\n",
      "    4           Central Northside       23\n",
      "    5                   Ridgemont       37\n",
      "    6               Regent Square       37\n",
      "    7               New Homestead       39\n",
      "    8              Swisshelm Park       43\n",
      "    9              Chartiers City       46\n",
      "   10               East Carnegie       48\n",
      "   11                   St. Clair       55\n",
      "   12              Outside County       57\n",
      "   13               Outside State       67\n",
      "   14                 Summer Hill       76\n",
      "   15                     Oakwood       82\n",
      "   16 Golden Triangle/Civic Arena       83\n",
      "   17                        Hays      120\n",
      "   18                     Windgap      124\n",
      "   19                Mount Oliver      124\n",
      "   20                   Fairywood      127\n",
      "   21              Allegheny West      130\n",
      "   22           Arlington Heights      155\n",
      "   23                 Polish Hill      166\n",
      "   24                  Glen Hazel      169\n",
      "   25                  Friendship      174\n",
      "   26                 Morningside      188\n",
      "   27         Upper Lawrenceville      189\n",
      "   28            Duquesne Heights      191\n",
      "   29                      Esplen      200\n",
      "   30               Spring Garden      219\n",
      "   31             Stanton Heights      223\n",
      "   32                    Westwood      226\n",
      "   33               Lincoln Place      227\n",
      "   34                     Bon Air      267\n",
      "   35         Lower Lawrenceville      272\n",
      "   36          Point Breeze North      289\n",
      "   37         Squirrel Hill North      290\n",
      "   38                    West End      290\n",
      "   39                  Banksville      291\n",
      "   40             Terrace Village      297\n",
      "   41                Point Breeze      301\n",
      "   42                 South Shore      301\n",
      "   43                   Arlington      312\n",
      "   44        California-Kirkbride      315\n",
      "   45                Outside City      316\n",
      "   46                West Oakland      325\n",
      "   47                   Overbrook      331\n",
      "   48               South Oakland      354\n",
      "   49                  Upper Hill      370\n",
      "   50       Central Lawrenceville      431\n",
      "   51                   Troy Hill      437\n",
      "   52                     Chateau      454\n",
      "   53               North Oakland      455\n",
      "   54                  Manchester      471\n",
      "   55                 Beltzhoover      496\n",
      "   56              Strip District      503\n",
      "   57             Central Oakland      521\n",
      "   58                  Greenfield      537\n",
      "   59               Highland Park      558\n",
      "   60                 Perry North      587\n",
      "   61             Crafton Heights      601\n",
      "   62                     Elliott      663\n",
      "   63           Bedford Dwellings      665\n",
      "   64       Spring Hill-City View      711\n",
      "   65           Northview Heights      713\n",
      "   66                    Garfield      722\n",
      "   67               Homewood West      764\n",
      "   68                    Fineview      796\n",
      "   69           South Side Slopes      801\n",
      "   70         Squirrel Hill South      812\n",
      "   71                 North Shore      814\n",
      "   72            Crawford-Roberts      839\n",
      "   73          Central North Side      853\n",
      "   74                     Larimer      879\n",
      "   75                 Middle Hill      932\n",
      "   76                   Allentown      947\n",
      "   77                   Shadyside      971\n",
      "   78                  Bloomfield      984\n",
      "   79                 Perry South     1057\n",
      "   80            Brighton Heights     1114\n",
      "   81                  East Hills     1194\n",
      "   82                   Beechview     1201\n",
      "   83            Allegheny Center     1244\n",
      "   84                    Sheraden     1285\n",
      "   85                   Knoxville     1336\n",
      "   86    Lincoln-Lemington-Belmar     1362\n",
      "   87                   Brookline     1390\n",
      "   88                   Hazelwood     1396\n",
      "   89            Mount Washington     1434\n",
      "   90                       Bluff     1502\n",
      "   91          Marshall-Shadeland     1516\n",
      "   92                East Liberty     1889\n",
      "   93              Homewood North     1969\n",
      "   94              Homewood South     2090\n",
      "   95              East Allegheny     2217\n",
      "   96                     Carrick     2351\n",
      "   97            South Side Flats     3497\n",
      "   98   Central Business District     4440\n"
     ]
    }
   ],
   "source": [
    "# This cell deals with printing the output of the conclusion onto the \n",
    "# command line, and exporting the data into a csv file for further use\n",
    "\n",
    "print(mgc.to_string(index=False))\n",
    "mgc.to_csv(\"arrests_rank.csv\",index=False)"
   ]
  },
  {
   "cell_type": "markdown",
   "metadata": {},
   "source": [
    "Using pandas we separated each neighborhood by the amount of crimes committed in each. This was done by counting each crime committed by checking every occurance of an incident associated within a neighborhood, which has lead us to the chart above.\n",
    "\n",
    "Using this data, we have concluded that Mt. Oliver Neighborhood would be the safest for children to be raised in due to the low amount of crimes being committed there."
   ]
  },
  {
   "cell_type": "markdown",
   "metadata": {},
   "source": []
  }
 ],
 "metadata": {
  "kernelspec": {
   "display_name": "Python 3",
   "language": "python",
   "name": "python3"
  },
  "language_info": {
   "codemirror_mode": {
    "name": "ipython",
    "version": 3
   },
   "file_extension": ".py",
   "mimetype": "text/x-python",
   "name": "python",
   "nbconvert_exporter": "python",
   "pygments_lexer": "ipython3",
   "version": "3.12.1"
  },
  "orig_nbformat": 4
 },
 "nbformat": 4,
 "nbformat_minor": 2
}
