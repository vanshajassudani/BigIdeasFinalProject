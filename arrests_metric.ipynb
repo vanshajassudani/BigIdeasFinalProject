{
 "cells": [
  {
   "cell_type": "code",
   "execution_count": 1,
   "metadata": {},
   "outputs": [],
   "source": [
    "import pandas as pd\n",
    "import matplotlib.pyplot as plt"
   ]
  },
  {
   "cell_type": "code",
   "execution_count": 2,
   "metadata": {},
   "outputs": [],
   "source": [
    "# This cell deals with loading the data and making it useful and presentable.\n",
    "metric = pd.read_csv(\"arrests.tsv\",sep=\"\\t\")\n",
    "\n",
    "# Group by neighborhood and count the occurrences\n",
    "metric_grouped = metric.groupby(\"INCIDENTNEIGHBORHOOD\").size().reset_index(name=\"count\")\n",
    "\n",
    "# Sort by count\n",
    "mgc = metric_grouped.sort_values(by=\"count\")\n",
    "\n",
    "# Create a sequential list to be assigned to the sorted neighborhoods\n",
    "rank_list = [x for x in range(1,len(mgc)+1)]\n",
    "mgc['Rank'] = rank_list\n",
    "\n",
    "# Presentability\n",
    "mgc = mgc.rename(columns={\"INCIDENTNEIGHBORHOOD\":\"Neighborhood\",\"count\":\"Arrests\"})\n",
    "mgc=mgc[['Rank','Neighborhood','Arrests']]\n"
   ]
  },
  {
   "cell_type": "code",
   "execution_count": null,
   "metadata": {},
   "outputs": [],
   "source": [
    "# This cell deals with presenting the data\n",
    "\n",
    "x_data = mgc['Neighborhood']\n",
    "y_data = mgc['Arrests']\n",
    "\n",
    "# Prepare a plot\n",
    "plt.bar(x_data,y_data,color=\"navy\")\n",
    "plt.xlabel(\"Neighborhoods\")\n",
    "plt.ylabel(\"Enrollment\")\n",
    "\n",
    "# Show only some ticks on the x axis, evenly spread to make it presentable.\n",
    "mid_ind = len(mgc)//2\n",
    "semimid_ind = mid_ind//2\n",
    "xtlist1 = [0,mid_ind,len(mgc)-1]\n",
    "xtlist2 = [x_data.iloc[0],x_data.iloc[mid_ind],x_data.iloc[len(mgc)-1]]\n",
    "\n",
    "plt.xticks(xtlist1,xtlist2)\n",
    "plt.title(\"Arrests by Neighborhoods\")"
   ]
  },
  {
   "cell_type": "code",
   "execution_count": null,
   "metadata": {},
   "outputs": [],
   "source": [
    "# This cell deals with printing the output of the conclusion onto the \n",
    "# command line, and exporting the data into a csv file for further use\n",
    "\n",
    "print(mgc.to_string(index=False))\n",
    "mgc.to_csv(\"arrests_rank.csv\",index=False)"
   ]
  }
 ],
 "metadata": {
  "kernelspec": {
   "display_name": "Python 3",
   "language": "python",
   "name": "python3"
  },
  "language_info": {
   "codemirror_mode": {
    "name": "ipython",
    "version": 3
   },
   "file_extension": ".py",
   "mimetype": "text/x-python",
   "name": "python",
   "nbconvert_exporter": "python",
   "pygments_lexer": "ipython3",
   "version": "3.12.1"
  },
  "orig_nbformat": 4
 },
 "nbformat": 4,
 "nbformat_minor": 2
}
