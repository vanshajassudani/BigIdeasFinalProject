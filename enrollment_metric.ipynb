{
 "cells": [
  {
   "cell_type": "code",
   "execution_count": 1,
   "metadata": {},
   "outputs": [],
   "source": [
    "import pandas as pd\n",
    "import matplotlib.pyplot as plt"
   ]
  },
  {
   "cell_type": "code",
   "execution_count": 2,
   "metadata": {},
   "outputs": [],
   "source": [
    "\n",
    "# This cell deals with loading the data and making it useful and presentable.\n",
    "metric = pd.read_csv(\"enrollment.csv\")\n",
    "\n",
    "# Presentability and Sorting\n",
    "metric = metric[['Neighborhood','Estimate; Total:']]\n",
    "metric = metric.rename(columns={'Estimate; Total:':'Enrollment'})\n",
    "ms = metric.sort_values(by='Enrollment',ascending=False)\n",
    "\n",
    "# Create a sequential list to be assigned to the sorted neighborhoods\n",
    "rank_list = [x for x in range(1,len(ms)+1)]\n",
    "ms['Rank'] = rank_list\n",
    "ms=ms[['Rank','Neighborhood','Enrollment']]\n"
   ]
  },
  {
   "cell_type": "code",
   "execution_count": null,
   "metadata": {},
   "outputs": [],
   "source": [
    "# This cell deals with presenting the data\n",
    "\n",
    "x_data = ms['Neighborhood']\n",
    "y_data = ms['Enrollment']\n",
    "\n",
    "# Prepare a plot\n",
    "plt.bar(x_data,y_data,color=\"navy\")\n",
    "plt.xlabel(\"Neighborhoods\")\n",
    "plt.ylabel(\"Enrollment\")\n",
    "\n",
    "# Show only some ticks on the x axis, evenly spread to make it presentable.\n",
    "# \"Ugly code, but gives neat ouput\" - Vanshaj\n",
    "\n",
    "mid_ind = len(ms)//2\n",
    "semimid_ind = mid_ind//2\n",
    "xtlist1 = [0,mid_ind-semimid_ind,mid_ind,mid_ind+semimid_ind,len(ms)-1]\n",
    "xtlist2 = [x_data.iloc[0],x_data.iloc[mid_ind-semimid_ind],x_data.iloc[mid_ind],x_data.iloc[mid_ind+semimid_ind],x_data.iloc[len(ms)-1]]\n",
    "\n",
    "plt.xticks(xtlist1,xtlist2)\n",
    "plt.title(\"School Enrollment by Neighborhoods\")\n"
   ]
  },
  {
   "cell_type": "code",
   "execution_count": null,
   "metadata": {},
   "outputs": [],
   "source": [
    "# This cell deals with printing the output of the conclusion onto the \n",
    "# command line, and exporting the data into a csv file for further use\n",
    "\n",
    "print(ms.to_string(index=False))\n",
    "ms.to_csv(\"enrollment_rank.csv\",index=False)"
   ]
  },
  {
   "cell_type": "markdown",
   "metadata": {},
   "source": [
    "Using pandas and python, we load the dataset, strip down the unnecessary fields, group by neighborhoods, and then sort those neighborhoods based on the number of enrollments established, then we assigned ranks to them, with the neighborhood with most enrollments getting the highest rank and the one with least enrollments getting the lowest. The results are visible during the execution of this code, and also in the output file generated."
   ]
  }
 ],
 "metadata": {
  "kernelspec": {
   "display_name": "Python 3",
   "language": "python",
   "name": "python3"
  },
  "language_info": {
   "codemirror_mode": {
    "name": "ipython",
    "version": 3
   },
   "file_extension": ".py",
   "mimetype": "text/x-python",
   "name": "python",
   "nbconvert_exporter": "python",
   "pygments_lexer": "ipython3",
   "version": "3.12.1"
  }
 },
 "nbformat": 4,
 "nbformat_minor": 2
}
